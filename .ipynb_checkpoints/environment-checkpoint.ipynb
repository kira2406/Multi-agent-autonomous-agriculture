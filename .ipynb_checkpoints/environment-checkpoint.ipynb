{
 "cells": [
  {
   "cell_type": "code",
   "execution_count": 2,
   "id": "314ff143-f4ff-4ab2-8462-6e14e85730e8",
   "metadata": {},
   "outputs": [],
   "source": [
    "import pygame\n",
    "from customEnv import CustomEnv\n",
    "import random"
   ]
  },
  {
   "cell_type": "code",
   "execution_count": null,
   "id": "7cb51682-480f-4876-aa06-18c3c2501ae8",
   "metadata": {},
   "outputs": [
    {
     "name": "stdout",
     "output_type": "stream",
     "text": [
      "Episode 1 finished with total reward: -171\n",
      "Episode 2 finished with total reward: 66\n"
     ]
    }
   ],
   "source": [
    "# Clock object to manage FPS\n",
    "clock = pygame.time.Clock()\n",
    "\n",
    "if __name__ == \"__main__\":\n",
    "    env = CustomEnv()\n",
    "\n",
    "    # Example: Run 10 episodes in the environment\n",
    "    for episode in range(10):\n",
    "        state = env.reset()\n",
    "        done = False\n",
    "        total_reward = 0\n",
    "\n",
    "        while not done:\n",
    "            # Render the environment\n",
    "            env.render()\n",
    "\n",
    "            # Random action for testing (Replace with RL agent's action)\n",
    "            action = random.choice([0, 1, 2, 3])  # Random action from available actions\n",
    "\n",
    "            # Take action\n",
    "            next_state, reward, done, info = env.step(action)\n",
    "            total_reward += reward\n",
    "\n",
    "            # Set frame rate\n",
    "            clock.tick(30)\n",
    "\n",
    "        print(f\"Episode {episode + 1} finished with total reward: {total_reward}\")\n",
    "\n",
    "    env.close()"
   ]
  },
  {
   "cell_type": "code",
   "execution_count": null,
   "id": "acface58-b9d4-4570-9527-25bae8881bc5",
   "metadata": {},
   "outputs": [],
   "source": []
  },
  {
   "cell_type": "code",
   "execution_count": null,
   "id": "d80c53f0-25cf-48b0-af70-9e8bf38a1f6b",
   "metadata": {},
   "outputs": [],
   "source": []
  }
 ],
 "metadata": {
  "kernelspec": {
   "display_name": "Python 3 (ipykernel)",
   "language": "python",
   "name": "python3"
  },
  "language_info": {
   "codemirror_mode": {
    "name": "ipython",
    "version": 3
   },
   "file_extension": ".py",
   "mimetype": "text/x-python",
   "name": "python",
   "nbconvert_exporter": "python",
   "pygments_lexer": "ipython3",
   "version": "3.12.1"
  }
 },
 "nbformat": 4,
 "nbformat_minor": 5
}
