{
 "cells": [
  {
   "cell_type": "code",
   "execution_count": 1,
   "id": "314ff143-f4ff-4ab2-8462-6e14e85730e8",
   "metadata": {},
   "outputs": [
    {
     "name": "stdout",
     "output_type": "stream",
     "text": [
      "pygame 2.6.0 (SDL 2.28.4, Python 3.12.1)\n",
      "Hello from the pygame community. https://www.pygame.org/contribute.html\n"
     ]
    }
   ],
   "source": [
    "import pygame\n",
    "from AgriEnv import AgriEnv\n",
    "import random"
   ]
  },
  {
   "cell_type": "code",
   "execution_count": 2,
   "id": "f4ab98e9",
   "metadata": {},
   "outputs": [],
   "source": [
    "\n",
    "env = AgriEnv()"
   ]
  },
  {
   "cell_type": "code",
   "execution_count": 3,
   "id": "00c230d1",
   "metadata": {},
   "outputs": [
    {
     "name": "stdout",
     "output_type": "stream",
     "text": [
      "[0, 0]\n",
      "[0, 1]\n"
     ]
    }
   ],
   "source": [
    "print(env.seeder_agent.pos)\n",
    "print(env.water_agent.pos)"
   ]
  },
  {
   "cell_type": "code",
   "execution_count": 4,
   "id": "7cb51682-480f-4876-aa06-18c3c2501ae8",
   "metadata": {},
   "outputs": [
    {
     "name": "stdout",
     "output_type": "stream",
     "text": [
      "wateragent [1, 0] 1 0 75 0\n",
      "seederagent [0, 0] 0 0 0 0\n",
      "Available actions for seeder_agent (Seeder Agent): [0, 1, 2, 3, 4, 5, 6, 7]\n",
      "Available actions for water_agent (Water Agent): [0, 1, 2, 3, 4, 5, 6, 7]\n"
     ]
    },
    {
     "name": "stdin",
     "output_type": "stream",
     "text": [
      "Enter action for seeder_agent (Seeder Agent):  3\n",
      "Enter action for water_agent (Water Agent):  3\n"
     ]
    },
    {
     "name": "stdout",
     "output_type": "stream",
     "text": [
      "seeder_agent's action: move_right\n",
      "move_right\n",
      "agent pos [0, 0]\n",
      "updated pos [1, 0]\n",
      "water_agent's action: move_right\n",
      "move_right\n",
      "agent pos [1, 0]\n",
      "updated pos [1, 1]\n",
      "wateragent [1, 1] 1 1 75 75\n",
      "seederagent [1, 0] 1 1 75 0\n",
      "Available actions for seeder_agent (Seeder Agent): [0, 1, 2, 3, 4, 5, 6, 7]\n",
      "Available actions for water_agent (Water Agent): [0, 1, 2, 3, 4, 5, 6, 7]\n"
     ]
    },
    {
     "name": "stdin",
     "output_type": "stream",
     "text": [
      "Enter action for seeder_agent (Seeder Agent):  3\n",
      "Enter action for water_agent (Water Agent):  3\n"
     ]
    },
    {
     "name": "stdout",
     "output_type": "stream",
     "text": [
      "seeder_agent's action: move_right\n",
      "move_right\n",
      "agent pos [1, 0]\n",
      "updated pos [1, 1]\n",
      "water_agent's action: move_right\n",
      "move_right\n",
      "agent pos [1, 1]\n",
      "updated pos [2, 1]\n",
      "wateragent [2, 1] 2 1 150 75\n",
      "seederagent [1, 1] 1 1 75 75\n",
      "Available actions for seeder_agent (Seeder Agent): [0, 1, 2, 3, 4, 5, 6, 7]\n",
      "Available actions for water_agent (Water Agent): [0, 1, 2, 3, 4, 5, 6, 7]\n"
     ]
    },
    {
     "name": "stdin",
     "output_type": "stream",
     "text": [
      "Enter action for seeder_agent (Seeder Agent):  4\n",
      "Enter action for water_agent (Water Agent):  3\n"
     ]
    },
    {
     "name": "stdout",
     "output_type": "stream",
     "text": [
      "seeder_agent's action: idle\n",
      "idle\n",
      "water_agent's action: move_right\n",
      "move_right\n",
      "agent pos [2, 1]\n",
      "updated pos [2, 2]\n",
      "wateragent [2, 2] 2 2 150 150\n",
      "seederagent [1, 1] 1 1 75 75\n",
      "Available actions for seeder_agent (Seeder Agent): [0, 1, 2, 3, 4, 5, 6, 7]\n",
      "Available actions for water_agent (Water Agent): [0, 1, 2, 3, 4, 5, 6, 7]\n"
     ]
    },
    {
     "name": "stdin",
     "output_type": "stream",
     "text": [
      "Enter action for seeder_agent (Seeder Agent):  4\n",
      "Enter action for water_agent (Water Agent):  3\n"
     ]
    },
    {
     "name": "stdout",
     "output_type": "stream",
     "text": [
      "seeder_agent's action: idle\n",
      "idle\n",
      "water_agent's action: move_right\n",
      "move_right\n",
      "agent pos [2, 2]\n",
      "updated pos [3, 2]\n",
      "wateragent [3, 2] 3 2 225 150\n",
      "seederagent [1, 1] 1 1 75 75\n",
      "Available actions for seeder_agent (Seeder Agent): [0, 1, 2, 3, 4, 5, 6, 7]\n",
      "Available actions for water_agent (Water Agent): [0, 1, 2, 3, 4, 5, 6, 7]\n"
     ]
    },
    {
     "name": "stdin",
     "output_type": "stream",
     "text": [
      "Enter action for seeder_agent (Seeder Agent):  3\n",
      "Enter action for water_agent (Water Agent):  4\n"
     ]
    },
    {
     "name": "stdout",
     "output_type": "stream",
     "text": [
      "seeder_agent's action: move_right\n",
      "move_right\n",
      "agent pos [1, 1]\n",
      "updated pos [2, 1]\n",
      "water_agent's action: idle\n",
      "idle\n",
      "wateragent [3, 2] 3 2 225 150\n",
      "seederagent [2, 1] 2 2 150 75\n",
      "Available actions for seeder_agent (Seeder Agent): [0, 1, 2, 3, 4, 5, 6, 7]\n",
      "Available actions for water_agent (Water Agent): [0, 1, 2, 3, 4, 5, 6, 7]\n"
     ]
    },
    {
     "name": "stdin",
     "output_type": "stream",
     "text": [
      "Enter action for seeder_agent (Seeder Agent):  3\n",
      "Enter action for water_agent (Water Agent):  4\n"
     ]
    },
    {
     "name": "stdout",
     "output_type": "stream",
     "text": [
      "seeder_agent's action: move_right\n",
      "move_right\n",
      "agent pos [2, 1]\n",
      "updated pos [2, 2]\n",
      "water_agent's action: idle\n",
      "idle\n",
      "wateragent [3, 2] 3 2 225 150\n",
      "seederagent [2, 2] 2 2 150 150\n",
      "Available actions for seeder_agent (Seeder Agent): [0, 1, 2, 3, 4, 5, 6, 7]\n",
      "Available actions for water_agent (Water Agent): [0, 1, 2, 3, 4, 5, 6, 7]\n"
     ]
    },
    {
     "ename": "KeyboardInterrupt",
     "evalue": "Interrupted by user",
     "output_type": "error",
     "traceback": [
      "\u001b[1;31m---------------------------------------------------------------------------\u001b[0m",
      "\u001b[1;31mKeyboardInterrupt\u001b[0m                         Traceback (most recent call last)",
      "Cell \u001b[1;32mIn[4], line 17\u001b[0m\n\u001b[0;32m     14\u001b[0m \u001b[38;5;28mprint\u001b[39m(\u001b[38;5;124mf\u001b[39m\u001b[38;5;124m\"\u001b[39m\u001b[38;5;124mAvailable actions for \u001b[39m\u001b[38;5;132;01m{\u001b[39;00magents[\u001b[38;5;241m1\u001b[39m]\u001b[38;5;132;01m}\u001b[39;00m\u001b[38;5;124m (Water Agent): \u001b[39m\u001b[38;5;132;01m{\u001b[39;00m\u001b[38;5;28mlist\u001b[39m(\u001b[38;5;28mrange\u001b[39m(env\u001b[38;5;241m.\u001b[39maction_space[agents[\u001b[38;5;241m1\u001b[39m]]\u001b[38;5;241m.\u001b[39mn))\u001b[38;5;132;01m}\u001b[39;00m\u001b[38;5;124m\"\u001b[39m)\n\u001b[0;32m     16\u001b[0m \u001b[38;5;66;03m# Taking input from the user for each agent's action\u001b[39;00m\n\u001b[1;32m---> 17\u001b[0m seeder_agent_action \u001b[38;5;241m=\u001b[39m \u001b[38;5;28mint\u001b[39m(\u001b[38;5;28minput\u001b[39m(\u001b[38;5;124mf\u001b[39m\u001b[38;5;124m\"\u001b[39m\u001b[38;5;124mEnter action for \u001b[39m\u001b[38;5;132;01m{\u001b[39;00magents[\u001b[38;5;241m0\u001b[39m]\u001b[38;5;132;01m}\u001b[39;00m\u001b[38;5;124m (Seeder Agent): \u001b[39m\u001b[38;5;124m\"\u001b[39m))\n\u001b[0;32m     18\u001b[0m water_agent_action \u001b[38;5;241m=\u001b[39m \u001b[38;5;28mint\u001b[39m(\u001b[38;5;28minput\u001b[39m(\u001b[38;5;124mf\u001b[39m\u001b[38;5;124m\"\u001b[39m\u001b[38;5;124mEnter action for \u001b[39m\u001b[38;5;132;01m{\u001b[39;00magents[\u001b[38;5;241m1\u001b[39m]\u001b[38;5;132;01m}\u001b[39;00m\u001b[38;5;124m (Water Agent): \u001b[39m\u001b[38;5;124m\"\u001b[39m))\n\u001b[0;32m     20\u001b[0m actions \u001b[38;5;241m=\u001b[39m {\n\u001b[0;32m     21\u001b[0m     agents[\u001b[38;5;241m0\u001b[39m]: seeder_agent_action,\n\u001b[0;32m     22\u001b[0m     agents[\u001b[38;5;241m1\u001b[39m]: water_agent_action,\n\u001b[0;32m     23\u001b[0m }\n",
      "File \u001b[1;32m~\\anaconda3\\envs\\helios\\Lib\\site-packages\\ipykernel\\kernelbase.py:1262\u001b[0m, in \u001b[0;36mKernel.raw_input\u001b[1;34m(self, prompt)\u001b[0m\n\u001b[0;32m   1260\u001b[0m     msg \u001b[38;5;241m=\u001b[39m \u001b[38;5;124m\"\u001b[39m\u001b[38;5;124mraw_input was called, but this frontend does not support input requests.\u001b[39m\u001b[38;5;124m\"\u001b[39m\n\u001b[0;32m   1261\u001b[0m     \u001b[38;5;28;01mraise\u001b[39;00m StdinNotImplementedError(msg)\n\u001b[1;32m-> 1262\u001b[0m \u001b[38;5;28;01mreturn\u001b[39;00m \u001b[38;5;28mself\u001b[39m\u001b[38;5;241m.\u001b[39m_input_request(\n\u001b[0;32m   1263\u001b[0m     \u001b[38;5;28mstr\u001b[39m(prompt),\n\u001b[0;32m   1264\u001b[0m     \u001b[38;5;28mself\u001b[39m\u001b[38;5;241m.\u001b[39m_parent_ident[\u001b[38;5;124m\"\u001b[39m\u001b[38;5;124mshell\u001b[39m\u001b[38;5;124m\"\u001b[39m],\n\u001b[0;32m   1265\u001b[0m     \u001b[38;5;28mself\u001b[39m\u001b[38;5;241m.\u001b[39mget_parent(\u001b[38;5;124m\"\u001b[39m\u001b[38;5;124mshell\u001b[39m\u001b[38;5;124m\"\u001b[39m),\n\u001b[0;32m   1266\u001b[0m     password\u001b[38;5;241m=\u001b[39m\u001b[38;5;28;01mFalse\u001b[39;00m,\n\u001b[0;32m   1267\u001b[0m )\n",
      "File \u001b[1;32m~\\anaconda3\\envs\\helios\\Lib\\site-packages\\ipykernel\\kernelbase.py:1305\u001b[0m, in \u001b[0;36mKernel._input_request\u001b[1;34m(self, prompt, ident, parent, password)\u001b[0m\n\u001b[0;32m   1302\u001b[0m \u001b[38;5;28;01mexcept\u001b[39;00m \u001b[38;5;167;01mKeyboardInterrupt\u001b[39;00m:\n\u001b[0;32m   1303\u001b[0m     \u001b[38;5;66;03m# re-raise KeyboardInterrupt, to truncate traceback\u001b[39;00m\n\u001b[0;32m   1304\u001b[0m     msg \u001b[38;5;241m=\u001b[39m \u001b[38;5;124m\"\u001b[39m\u001b[38;5;124mInterrupted by user\u001b[39m\u001b[38;5;124m\"\u001b[39m\n\u001b[1;32m-> 1305\u001b[0m     \u001b[38;5;28;01mraise\u001b[39;00m \u001b[38;5;167;01mKeyboardInterrupt\u001b[39;00m(msg) \u001b[38;5;28;01mfrom\u001b[39;00m \u001b[38;5;28;01mNone\u001b[39;00m\n\u001b[0;32m   1306\u001b[0m \u001b[38;5;28;01mexcept\u001b[39;00m \u001b[38;5;167;01mException\u001b[39;00m:\n\u001b[0;32m   1307\u001b[0m     \u001b[38;5;28mself\u001b[39m\u001b[38;5;241m.\u001b[39mlog\u001b[38;5;241m.\u001b[39mwarning(\u001b[38;5;124m\"\u001b[39m\u001b[38;5;124mInvalid Message:\u001b[39m\u001b[38;5;124m\"\u001b[39m, exc_info\u001b[38;5;241m=\u001b[39m\u001b[38;5;28;01mTrue\u001b[39;00m)\n",
      "\u001b[1;31mKeyboardInterrupt\u001b[0m: Interrupted by user"
     ]
    }
   ],
   "source": [
    "\n",
    "\n",
    "# Example: Run 5 episodes in the environment\n",
    "for episode in range(5):\n",
    "    state = env.reset()\n",
    "    done = False\n",
    "    total_reward = 0\n",
    "\n",
    "    agents = env.agents\n",
    "\n",
    "    while not done:\n",
    "        # Render the environment\n",
    "        env.render()\n",
    "            # Display the available actions for each agent\n",
    "        print(f\"Available actions for {agents[0]} (Seeder Agent): {list(range(env.action_space[agents[0]].n))}\")\n",
    "        print(f\"Available actions for {agents[1]} (Water Agent): {list(range(env.action_space[agents[1]].n))}\")\n",
    "\n",
    "        # Taking input from the user for each agent's action\n",
    "        seeder_agent_action = int(input(f\"Enter action for {agents[0]} (Seeder Agent): \"))\n",
    "        water_agent_action = int(input(f\"Enter action for {agents[1]} (Water Agent): \"))\n",
    "\n",
    "        actions = {\n",
    "            agents[0]: seeder_agent_action,\n",
    "            agents[1]: water_agent_action,\n",
    "        }\n",
    "\n",
    "        # Take action\n",
    "        next_state, reward, done, info = env.step(actions)\n",
    "        total_reward += reward\n",
    "\n",
    "    print(f\"Episode {episode + 1} finished with total reward: {total_reward}\")\n",
    "\n",
    "env.close()"
   ]
  },
  {
   "cell_type": "code",
   "execution_count": null,
   "id": "acface58-b9d4-4570-9527-25bae8881bc5",
   "metadata": {},
   "outputs": [],
   "source": []
  },
  {
   "cell_type": "code",
   "execution_count": null,
   "id": "d80c53f0-25cf-48b0-af70-9e8bf38a1f6b",
   "metadata": {},
   "outputs": [],
   "source": []
  }
 ],
 "metadata": {
  "kernelspec": {
   "display_name": "Python 3 (ipykernel)",
   "language": "python",
   "name": "python3"
  },
  "language_info": {
   "codemirror_mode": {
    "name": "ipython",
    "version": 3
   },
   "file_extension": ".py",
   "mimetype": "text/x-python",
   "name": "python",
   "nbconvert_exporter": "python",
   "pygments_lexer": "ipython3",
   "version": "3.12.1"
  }
 },
 "nbformat": 4,
 "nbformat_minor": 5
}
