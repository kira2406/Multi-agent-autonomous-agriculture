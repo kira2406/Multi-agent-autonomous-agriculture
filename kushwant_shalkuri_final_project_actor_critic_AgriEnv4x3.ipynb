{
 "cells": [
  {
   "cell_type": "code",
   "execution_count": null,
   "id": "b252af7d-718a-420f-bd47-39964df503ad",
   "metadata": {},
   "outputs": [
    {
     "name": "stdout",
     "output_type": "stream",
     "text": [
      "pygame 2.6.1 (SDL 2.28.4, Python 3.9.6)\n",
      "Hello from the pygame community. https://www.pygame.org/contribute.html\n"
     ]
    }
   ],
   "source": [
    "from AgriEnv4x3_2agents import AgriEnv\n",
    "import traceback\n",
    "import random\n",
    "import numpy as np\n",
    "import matplotlib.pyplot as plt\n",
    "import gym\n",
    "from gym import spaces\n",
    "import torch\n",
    "import torch.nn as nn\n",
    "import torch.optim as optim\n",
    "import torch.nn.functional as F\n",
    "from collections import deque\n",
    "import numpy as np\n",
    "import random\n",
    "from collections import deque\n",
    "from collections import deque, namedtuple\n",
    "import matplotlib.pyplot as plt\n",
    "from tqdm import tqdm\n",
    "import warnings\n",
    "warnings.filterwarnings(\"ignore\", category=DeprecationWarning)\n",
    "%matplotlib inline\n",
    "import cv2\n",
    "import pickle"
   ]
  },
  {
   "cell_type": "code",
   "execution_count": 3,
   "id": "1deeb7e1-234e-4071-a2da-977f71b1d16f",
   "metadata": {},
   "outputs": [
    {
     "name": "stdout",
     "output_type": "stream",
     "text": [
      "Defaulting to user installation because normal site-packages is not writeable\n",
      "Requirement already satisfied: opencv-python in /user/kushwant/.local/lib/python3.9/site-packages (4.10.0.84)\n",
      "Requirement already satisfied: numpy>=1.19.3 in /cvmfs/soft.ccr.buffalo.edu/versions/2023.01/easybuild/software/avx512/MPI/gcc/11.2.0/openmpi/4.1.1/scipy-bundle/2021.10/lib/python3.9/site-packages (from opencv-python) (1.21.3)\n",
      "\u001b[33mWARNING: You are using pip version 21.2.2; however, version 24.3.1 is available.\n",
      "You should consider upgrading via the '/cvmfs/soft.ccr.buffalo.edu/versions/2023.01/easybuild/software/avx512/Compiler/gcccore/11.2.0/python/3.9.6/bin/python3.9 -m pip install --upgrade pip' command.\u001b[0m\n"
     ]
    }
   ],
   "source": [
    "!pip install opencv-python"
   ]
  },
  {
   "cell_type": "code",
   "execution_count": null,
   "id": "ced9adc7-6029-478a-8eca-0dde17b0ac70",
   "metadata": {},
   "outputs": [],
   "source": [
    "# Defining Actor Critic Network\n",
    "class ActorCritic(nn.Module):\n",
    "    def __init__(self, state_size, action_size):\n",
    "        super(ActorCritic, self).__init__()\n",
    "        \n",
    "        # Shared layers\n",
    "        self.fc1 = nn.Linear(state_size, 128)\n",
    "        self.fc2 = nn.Linear(128, 128)\n",
    "        self.fc3 = nn.Linear(128, 128)\n",
    "\n",
    "        # Actor: Outputs action probabilities\n",
    "        self.actor_fc = nn.Linear(128, action_size)\n",
    "        \n",
    "        # Critic: Outputs state value\n",
    "        self.critic_fc = nn.Linear(128, 1)\n",
    "        \n",
    "    def forward(self, state):\n",
    "        # Forward pass through shared layers\n",
    "        x = torch.relu(self.fc1(state))\n",
    "        x = torch.relu(self.fc2(x))\n",
    "        x = torch.relu(self.fc3(x))\n",
    "\n",
    "        # Actor and Critic heads\n",
    "        action_probs = torch.softmax(self.actor_fc(x), dim=-1)\n",
    "        state_value = self.critic_fc(x)\n",
    "        \n",
    "        return action_probs, state_value"
   ]
  },
  {
   "cell_type": "code",
   "execution_count": null,
   "id": "49827db7-64eb-4028-a851-8286f659f6ae",
   "metadata": {},
   "outputs": [],
   "source": [
    "# Defining Advantage Actor Critic Agent (A2C)\n",
    "class A2CAgent:\n",
    "    def __init__(self, state_size, action_size, device, learning_rate=0.0005):\n",
    "        self.device = device\n",
    "        self.actor_critic = ActorCritic(state_size, action_size).to(device)\n",
    "        self.optimizer = optim.Adam(self.actor_critic.parameters(), lr=learning_rate)\n",
    "        # Discount factor for rewards\n",
    "        self.gamma = 0.90  \n",
    "        self.actor_loss_vals = []\n",
    "        self.critic_loss_vals = []\n",
    "        self.entropy_loss_vals = []\n",
    "        self.loss_vals = []\n",
    "\n",
    "    def get_action(self, state):\n",
    "        \"\"\"  Computes an action for the agent given the current state.\"\"\"\n",
    "\n",
    "        # Convert the state to a PyTorch tensor, add a batch dimension, and move to the appropriate device\n",
    "        state = torch.FloatTensor(state).unsqueeze(0).to(self.device)\n",
    "        # Pass the state through the actor-critic network to get action probabilities and value estimates\n",
    "        action_probs, _ = self.actor_critic(state)\n",
    "        # Create a categorical distribution using the action probabilities\n",
    "        dist = torch.distributions.Categorical(action_probs)\n",
    "        # Sample an action from the probability distribution\n",
    "        action = dist.sample()\n",
    "        # Clamp the action is within valid bounds\n",
    "        action = action.clamp(min=0, max=dist.probs.shape[-1] - 1)\n",
    "        # Return the selected action and its log probability\n",
    "        return action.item(), dist.log_prob(action)\n",
    "\n",
    "    def learn(self, states, actions, rewards, next_states, dones):\n",
    "        \"\"\"\n",
    "        Updates both the actor and critic networks.\n",
    "        \"\"\"\n",
    "        # Convert inputs to tensors\n",
    "        states = torch.FloatTensor(states).to(self.device)\n",
    "        actions = torch.LongTensor(actions).to(self.device)\n",
    "        rewards = torch.FloatTensor(rewards).to(self.device)\n",
    "        next_states = torch.FloatTensor(next_states).to(self.device)\n",
    "        dones = torch.FloatTensor(dones).squeeze(1).to(self.device)\n",
    "\n",
    "        # Get current and next state values from the critic\n",
    "        action_probs, values = self.actor_critic(states)\n",
    "        _, next_values = self.actor_critic(next_states)\n",
    "\n",
    "        # Calculate target values (Bellman equation)\n",
    "        target = rewards + self.gamma * next_values.squeeze(1) * (1 - dones)\n",
    "        \n",
    "        # Calculate advantages\n",
    "        target = target.squeeze()\n",
    "        advantages = target - values.squeeze(1)\n",
    "\n",
    "        # Normalize advantages for stability)\n",
    "        advantages = (advantages - advantages.mean()) / (advantages.std() + 1e-8)\n",
    "\n",
    "        # Calculate Critic Loss (Value Loss)\n",
    "        critic_loss = F.mse_loss(values.squeeze(1), target)\n",
    "\n",
    "        # Calculate Actor Loss (Policy Loss)\n",
    "        dist = torch.distributions.Categorical(action_probs)\n",
    "        action_log_probs = dist.log_prob(actions)\n",
    "        actor_loss = -(action_log_probs * advantages.detach()).mean()\n",
    "\n",
    "        # Entropy loss to encourage exploration\n",
    "        entropy_loss = dist.entropy().mean()\n",
    "\n",
    "        # Total Loss\n",
    "        loss = actor_loss + 0.8 * critic_loss - 0.6 * entropy_loss  # 0.01 is the entropy coefficient\n",
    "        self.actor_loss_vals.append(actor_loss)\n",
    "        self.critic_loss_vals.append(critic_loss)\n",
    "        self.entropy_loss_vals.append(entropy_loss)\n",
    "        self.loss_vals.append(loss)\n",
    "\n",
    "        # Update networks\n",
    "        self.optimizer.zero_grad()\n",
    "        loss.backward()\n",
    "        self.optimizer.step()\n",
    "\n",
    "    def save(self, filepath):\n",
    "        \"\"\" Save the actor-critic network weights\"\"\"\n",
    "\n",
    "        torch.save(self.actor_critic.state_dict(), filepath)\n",
    "\n",
    "    def load(self, filepath):\n",
    "        \"\"\" Load the actor-critic network weights\"\"\"\n",
    "        \n",
    "        self.actor_critic.load_state_dict(torch.load(filepath))\n"
   ]
  },
  {
   "cell_type": "code",
   "execution_count": null,
   "id": "42cacfe3-d79f-4981-9305-b4e20aba1603",
   "metadata": {},
   "outputs": [],
   "source": [
    "# Initialize Cuda device\n",
    "device = torch.device(\"cuda\" if torch.cuda.is_available() else \"cpu\")\n",
    "\n",
    "# Initialize RL environment AgriEnv\n",
    "agri_env = AgriEnv() "
   ]
  },
  {
   "cell_type": "code",
   "execution_count": 7,
   "id": "c93bcca1-ec1b-46cf-88c3-6363673be69c",
   "metadata": {},
   "outputs": [
    {
     "name": "stdout",
     "output_type": "stream",
     "text": [
      "8\n",
      "2\n",
      "2\n"
     ]
    }
   ],
   "source": [
    "print(agri_env.observation_space[0].shape[0])\n",
    "print(agri_env.observation_space[1].shape[0])\n",
    "print(agri_env.observation_space[2].shape[0])"
   ]
  },
  {
   "cell_type": "code",
   "execution_count": 8,
   "id": "0d59be9f-9722-4855-ac08-73c0e88a20b2",
   "metadata": {},
   "outputs": [],
   "source": [
    "plot_state_size = agri_env.observation_space[0].shape[0]\n",
    "seeder_state_size = agri_env.observation_space[1].shape[0]\n",
    "harvester_state_size = agri_env.observation_space[2].shape[0]\n",
    "\n",
    "\n",
    "# Create two separate A2C agents for the seeder and harvester\n",
    "seeder_agent = A2CAgent(state_size=plot_state_size + seeder_state_size, action_size=agri_env.action_space['seeder_agent'].n, device=device)\n",
    "harvester_agent = A2CAgent(state_size=plot_state_size + harvester_state_size, action_size=agri_env.action_space['harvester_agent'].n, device=device)\n",
    " "
   ]
  },
  {
   "cell_type": "code",
   "execution_count": 9,
   "id": "88b8b482-5cbc-4637-b09d-367ae9f93df7",
   "metadata": {},
   "outputs": [],
   "source": [
    "seeder_rewards = []\n",
    "harvester_rewards = []\n",
    "game_scores = []\n",
    "\n",
    "best_score = 0\n",
    "save_video = False"
   ]
  },
  {
   "cell_type": "code",
   "execution_count": 10,
   "id": "5cbf5a39-0788-4aae-9960-090cd127b5b6",
   "metadata": {},
   "outputs": [],
   "source": [
    "num_episodes = 10000"
   ]
  },
  {
   "cell_type": "code",
   "execution_count": null,
   "id": "0d816194-9200-472e-a03c-d9a86344567f",
   "metadata": {},
   "outputs": [],
   "source": [
    "# with open(\"a2c_2agents/rewards_data.pkl\", \"rb\") as f:\n",
    "#     rewards_data = pickle.load(f)\n",
    "\n",
    "# # Extract individual rewards lists\n",
    "# seeder_rewards = rewards_data[\"seeder_rewards\"]\n",
    "# harvester_rewards = rewards_data[\"harvester_rewards\"]\n",
    "# game_scores = rewards_data[\"game_scores\"]\n",
    "\n",
    "# seeder_agent.load(\"a2c_2agents/seeder_a2c.pkl\")\n",
    "# harvester_agent.load(\"a2c_2agents/harvester_a2c.pkl\")"
   ]
  },
  {
   "cell_type": "code",
   "execution_count": 12,
   "id": "21275950-bbf4-4b27-9e55-9db223b5be46",
   "metadata": {},
   "outputs": [
    {
     "name": "stdout",
     "output_type": "stream",
     "text": [
      "10000\n"
     ]
    }
   ],
   "source": [
    "old_count = len(harvester_rewards)\n",
    "print(old_count)"
   ]
  },
  {
   "cell_type": "code",
   "execution_count": null,
   "id": "a2edaf44-3e44-4782-be7a-08f72f21c9cd",
   "metadata": {},
   "outputs": [
    {
     "name": "stderr",
     "output_type": "stream",
     "text": [
      "Training Episodes:   5%|▍         | 499/10041 [05:23<1:52:43,  1.41episode/s, Seeder Reward=-39, Harvester Reward=-39.3, Game Score=0]   libEGL warning: egl: failed to create dri2 screen\n",
      "libEGL warning: egl: failed to create dri2 screen\n",
      "libEGL warning: egl: failed to create dri2 screen\n",
      "libEGL warning: egl: failed to create dri2 screen\n",
      "Training Episodes:   5%|▍         | 500/10041 [05:29<6:08:04,  2.31s/episode, Seeder Reward=-39.2, Harvester Reward=-28.1, Game Score=2]"
     ]
    },
    {
     "name": "stdout",
     "output_type": "stream",
     "text": [
      "Video for episode 499 saved as a2c_2agents/episode_500.mp4\n"
     ]
    },
    {
     "name": "stderr",
     "output_type": "stream",
     "text": [
      "Training Episodes:  10%|▉         | 1000/10041 [11:41<4:55:30,  1.96s/episode, Seeder Reward=-31.5, Harvester Reward=-25.2, Game Score=0]"
     ]
    },
    {
     "name": "stdout",
     "output_type": "stream",
     "text": [
      "Video for episode 999 saved as a2c_2agents/episode_1000.mp4\n"
     ]
    },
    {
     "name": "stderr",
     "output_type": "stream",
     "text": [
      "Training Episodes:  15%|█▍        | 1500/10041 [17:54<4:34:10,  1.93s/episode, Seeder Reward=-27.4, Harvester Reward=-0.62, Game Score=2] "
     ]
    },
    {
     "name": "stdout",
     "output_type": "stream",
     "text": [
      "Video for episode 1499 saved as a2c_2agents/episode_1500.mp4\n"
     ]
    },
    {
     "name": "stderr",
     "output_type": "stream",
     "text": [
      "Training Episodes:  20%|█▉        | 2000/10041 [24:04<4:19:40,  1.94s/episode, Seeder Reward=4.83, Harvester Reward=-20.3, Game Score=4]  "
     ]
    },
    {
     "name": "stdout",
     "output_type": "stream",
     "text": [
      "Video for episode 1999 saved as a2c_2agents/episode_2000.mp4\n"
     ]
    },
    {
     "name": "stderr",
     "output_type": "stream",
     "text": [
      "Training Episodes:  25%|██▍       | 2500/10041 [30:15<4:19:38,  2.07s/episode, Seeder Reward=1.54, Harvester Reward=-24.6, Game Score=0]    "
     ]
    },
    {
     "name": "stdout",
     "output_type": "stream",
     "text": [
      "Video for episode 2499 saved as a2c_2agents/episode_2500.mp4\n"
     ]
    },
    {
     "name": "stderr",
     "output_type": "stream",
     "text": [
      "Training Episodes:  30%|██▉       | 3000/10041 [36:27<3:53:40,  1.99s/episode, Seeder Reward=5.88, Harvester Reward=-14.2, Game Score=12] "
     ]
    },
    {
     "name": "stdout",
     "output_type": "stream",
     "text": [
      "Video for episode 2999 saved as a2c_2agents/episode_3000.mp4\n"
     ]
    },
    {
     "name": "stderr",
     "output_type": "stream",
     "text": [
      "Training Episodes:  35%|███▍      | 3500/10041 [42:37<3:23:19,  1.87s/episode, Seeder Reward=-3.31, Harvester Reward=-23.4, Game Score=4] "
     ]
    },
    {
     "name": "stdout",
     "output_type": "stream",
     "text": [
      "Video for episode 3499 saved as a2c_2agents/episode_3500.mp4\n"
     ]
    },
    {
     "name": "stderr",
     "output_type": "stream",
     "text": [
      "Training Episodes:  40%|███▉      | 4000/10041 [48:48<3:10:06,  1.89s/episode, Seeder Reward=-17.5, Harvester Reward=1.76, Game Score=20] "
     ]
    },
    {
     "name": "stdout",
     "output_type": "stream",
     "text": [
      "Video for episode 3999 saved as a2c_2agents/episode_4000.mp4\n"
     ]
    },
    {
     "name": "stderr",
     "output_type": "stream",
     "text": [
      "Training Episodes:  45%|████▍     | 4500/10041 [55:02<3:05:48,  2.01s/episode, Seeder Reward=-14.8, Harvester Reward=-17.9, Game Score=8] "
     ]
    },
    {
     "name": "stdout",
     "output_type": "stream",
     "text": [
      "Video for episode 4499 saved as a2c_2agents/episode_4500.mp4\n"
     ]
    },
    {
     "name": "stderr",
     "output_type": "stream",
     "text": [
      "Training Episodes:  50%|████▉     | 5000/10041 [1:01:14<2:48:57,  2.01s/episode, Seeder Reward=-17.2, Harvester Reward=-22.1, Game Score=4] "
     ]
    },
    {
     "name": "stdout",
     "output_type": "stream",
     "text": [
      "Video for episode 4999 saved as a2c_2agents/episode_5000.mp4\n"
     ]
    },
    {
     "name": "stderr",
     "output_type": "stream",
     "text": [
      "Training Episodes:  55%|█████▍    | 5500/10041 [1:07:27<2:30:37,  1.99s/episode, Seeder Reward=-12, Harvester Reward=-14.9, Game Score=12]  "
     ]
    },
    {
     "name": "stdout",
     "output_type": "stream",
     "text": [
      "Video for episode 5499 saved as a2c_2agents/episode_5500.mp4\n"
     ]
    },
    {
     "name": "stderr",
     "output_type": "stream",
     "text": [
      "Training Episodes:  60%|█████▉    | 6000/10041 [1:13:38<2:12:56,  1.97s/episode, Seeder Reward=-11.1, Harvester Reward=-24.4, Game Score=6] "
     ]
    },
    {
     "name": "stdout",
     "output_type": "stream",
     "text": [
      "Video for episode 5999 saved as a2c_2agents/episode_6000.mp4\n"
     ]
    },
    {
     "name": "stderr",
     "output_type": "stream",
     "text": [
      "Training Episodes:  65%|██████▍   | 6500/10041 [1:19:48<1:58:15,  2.00s/episode, Seeder Reward=-10.8, Harvester Reward=-27.1, Game Score=4] "
     ]
    },
    {
     "name": "stdout",
     "output_type": "stream",
     "text": [
      "Video for episode 6499 saved as a2c_2agents/episode_6500.mp4\n"
     ]
    },
    {
     "name": "stderr",
     "output_type": "stream",
     "text": [
      "Training Episodes:  70%|██████▉   | 7000/10041 [1:26:00<1:38:16,  1.94s/episode, Seeder Reward=-38.2, Harvester Reward=6.29, Game Score=26] "
     ]
    },
    {
     "name": "stdout",
     "output_type": "stream",
     "text": [
      "Video for episode 6999 saved as a2c_2agents/episode_7000.mp4\n"
     ]
    },
    {
     "name": "stderr",
     "output_type": "stream",
     "text": [
      "Training Episodes:  75%|███████▍  | 7500/10041 [1:32:18<1:23:22,  1.97s/episode, Seeder Reward=-27.6, Harvester Reward=1.92, Game Score=28] "
     ]
    },
    {
     "name": "stdout",
     "output_type": "stream",
     "text": [
      "Video for episode 7499 saved as a2c_2agents/episode_7500.mp4\n"
     ]
    },
    {
     "name": "stderr",
     "output_type": "stream",
     "text": [
      "Training Episodes:  80%|███████▉  | 8000/10041 [1:38:33<1:06:34,  1.96s/episode, Seeder Reward=-34.6, Harvester Reward=-3.3, Game Score=26]"
     ]
    },
    {
     "name": "stdout",
     "output_type": "stream",
     "text": [
      "Video for episode 7999 saved as a2c_2agents/episode_8000.mp4\n"
     ]
    },
    {
     "name": "stderr",
     "output_type": "stream",
     "text": [
      "Training Episodes:  85%|████████▍ | 8500/10041 [1:44:49<49:07,  1.91s/episode, Seeder Reward=-28.1, Harvester Reward=0.09, Game Score=28]  "
     ]
    },
    {
     "name": "stdout",
     "output_type": "stream",
     "text": [
      "Video for episode 8499 saved as a2c_2agents/episode_8500.mp4\n"
     ]
    },
    {
     "name": "stderr",
     "output_type": "stream",
     "text": [
      "Training Episodes:  90%|████████▉ | 9000/10041 [1:51:02<33:05,  1.91s/episode, Seeder Reward=-9.83, Harvester Reward=31.2, Game Score=52] "
     ]
    },
    {
     "name": "stdout",
     "output_type": "stream",
     "text": [
      "Video for episode 8999 saved as a2c_2agents/episode_9000.mp4\n"
     ]
    },
    {
     "name": "stderr",
     "output_type": "stream",
     "text": [
      "Training Episodes:  95%|█████████▍| 9500/10041 [1:57:13<17:06,  1.90s/episode, Seeder Reward=-51.2, Harvester Reward=-22.3, Game Score=12]"
     ]
    },
    {
     "name": "stdout",
     "output_type": "stream",
     "text": [
      "Video for episode 9499 saved as a2c_2agents/episode_9500.mp4\n"
     ]
    },
    {
     "name": "stderr",
     "output_type": "stream",
     "text": [
      "Training Episodes: 100%|█████████▉| 10000/10041 [2:03:26<01:16,  1.87s/episode, Seeder Reward=-12.1, Harvester Reward=33, Game Score=48]  "
     ]
    },
    {
     "name": "stdout",
     "output_type": "stream",
     "text": [
      "Video for episode 9999 saved as a2c_2agents/episode_10000.mp4\n"
     ]
    },
    {
     "name": "stderr",
     "output_type": "stream",
     "text": [
      "Training Episodes: 100%|██████████| 10041/10041 [2:03:56<00:00,  1.34episode/s, Seeder Reward=-28.6, Harvester Reward=3.5, Game Score=28]  "
     ]
    },
    {
     "name": "stdout",
     "output_type": "stream",
     "text": [
      "Training Completed\n"
     ]
    },
    {
     "name": "stderr",
     "output_type": "stream",
     "text": [
      "\n"
     ]
    }
   ],
   "source": [
    "old_count = len(harvester_rewards)\n",
    "with tqdm(total=old_count+num_episodes, initial=old_count, desc=\"Training Episodes\", unit=\"episode\") as pbar:\n",
    "    for episode in range(old_count, old_count+num_episodes):\n",
    "\n",
    "        # Every 500 episode store video of the agent's progress in the environment\n",
    "        if (episode + 1)%500 == 0:\n",
    "            save_video = True\n",
    "        \n",
    "        if save_video:\n",
    "            video_filename = f\"a2c_2agents/episode_{episode+1}.mp4\"\n",
    "            # Initialize VideoWriter to write video frame\n",
    "            fourcc = cv2.VideoWriter_fourcc(*'mp4v')\n",
    "            video_writer = None\n",
    "\n",
    "        # Reset environment for each episode\n",
    "        state, _ = agri_env.reset()\n",
    "        done = False\n",
    "        episode_rewards_seeder = 0\n",
    "        episode_rewards_harvester = 0\n",
    "        \n",
    "        # Store information for learning\n",
    "        states, actions, rewards, next_states, dones = [], [], [], [], []\n",
    "\n",
    "        # Create a progress bar for steps within the episode using `with tqdm`\n",
    "        while not done:\n",
    "            # Construct state for both agents\n",
    "            seeder_state = state[0] + state[1]\n",
    "            harvester_state = state[0] + state[2]\n",
    "            \n",
    "            # Get actions and log probabilities for both agents\n",
    "            seeder_action, seeder_log_prob = seeder_agent.get_action(seeder_state)\n",
    "            harvester_action, harvester_log_prob = harvester_agent.get_action(harvester_state)\n",
    "\n",
    "            # Take actions in the environment\n",
    "            next_state, reward, done, _ = agri_env.step({\n",
    "                'seeder_agent': seeder_action,\n",
    "                'harvester_agent': harvester_action,\n",
    "            })\n",
    "\n",
    "            # Construct next state for both agents\n",
    "            next_seeder_state = next_state[0] + next_state[1]\n",
    "            next_harvester_state = next_state[0] + next_state[2]\n",
    "\n",
    "            # Store the information for both agents (states, actions, rewards, next_states, dones)\n",
    "            states.append([seeder_state,  harvester_state])\n",
    "            actions.append([seeder_action, harvester_action])\n",
    "            rewards.append([reward[0], reward[1]])\n",
    "            \n",
    "            next_states.append([next_seeder_state, next_harvester_state])  # Combined next states\n",
    "            dones.append([done])\n",
    "\n",
    "            if save_video:\n",
    "                frame = agri_env.render()\n",
    "                # Convert frame from RGB (Pygame format) to BGR (OpenCV format)\n",
    "                frame = cv2.cvtColor(frame, cv2.COLOR_RGB2BGR)\n",
    "                # Initialize the video writer with frame dimensions on first frame\n",
    "                if video_writer is None:\n",
    "                    height, width, _ = frame.shape\n",
    "                    video_writer = cv2.VideoWriter(video_filename, fourcc, 30, (width, height))\n",
    "                # Write frame to video\n",
    "                video_writer.write(frame)\n",
    "\n",
    "            # Update episode rewards\n",
    "            episode_rewards_seeder += reward[0]\n",
    "            episode_rewards_harvester += reward[1]\n",
    "\n",
    "            # Update state\n",
    "            state = next_state\n",
    "\n",
    "        # After the episode ends, train both agents\n",
    "        seeder_agent.learn([state[0] for state in states], [action[0] for action in actions], [reward[0] for reward in rewards], [next_state[0] for next_state in next_states], dones)\n",
    "        harvester_agent.learn([state[1] for state in states], [action[1] for action in actions], [reward[1] for reward in rewards], [next_states[1] for next_states in next_states], dones)\n",
    "        \n",
    "        # Update progress bar postfix with agent's current rewards and game score\n",
    "        pbar.set_postfix({'Seeder Reward': episode_rewards_seeder,'Harvester Reward': episode_rewards_harvester, 'Game Score':agri_env.game_score})\n",
    "        \n",
    "        # Update the outer progress bar for each episode\n",
    "        pbar.update(1)\n",
    "\n",
    "        if save_video:\n",
    "            if video_writer is not None:\n",
    "                video_writer.release()\n",
    "    \n",
    "            print(f\"Video for episode {episode} saved as {video_filename}\")\n",
    "        save_video = False\n",
    "        \n",
    "        # Store the rewards for each episode in the list\n",
    "        seeder_rewards.append(episode_rewards_seeder)\n",
    "        harvester_rewards.append(episode_rewards_harvester)\n",
    "        game_scores.append(agri_env.game_score)\n",
    "        \n",
    "        # Checkpointing the model weights for best game score\n",
    "        if agri_env.game_score > best_score:\n",
    "            best_score = agri_env.game_score\n",
    "            seeder_agent.save(f\"a2c_2agents/seeder_a2c_best.pkl\",)\n",
    "            harvester_agent.save(f\"a2c_2agents/harvester_a2c_best.pkl\")\n",
    "\n",
    "        # Checkpointing the model weights for every 500 episodes\n",
    "        if (episode+1)%500 == 0:\n",
    "            seeder_agent.save(f\"a2c_2agents/seeder_a2c.pkl\",)\n",
    "            harvester_agent.save(f\"a2c_2agents/harvester_a2c.pkl\")\n",
    "            rewards_data = {\n",
    "                \"seeder_rewards\": seeder_rewards,\n",
    "                \"harvester_rewards\": harvester_rewards,\n",
    "                \"game_scores\": game_scores\n",
    "            }\n",
    "\n",
    "            # Save the dictionary\n",
    "            with open(\"a2c_2agents/rewards_data.pkl\", \"wb\") as f:\n",
    "                pickle.dump(rewards_data, f)\n",
    "    \n",
    "# Checkpointing the model weights after training\n",
    "seeder_agent.save(\"a2c_2agents/seeder_agent_model.pkl\")\n",
    "harvester_agent.save(\"a2c_2agents/harvester_agent_model.pkl\")\n",
    "\n",
    "print(\"Training Completed\")"
   ]
  },
  {
   "cell_type": "code",
   "execution_count": null,
   "id": "580ef2da-6075-44bb-9844-05149a10222a",
   "metadata": {},
   "outputs": [
    {
     "data": {
      "text/plain": [
       "62.0"
      ]
     },
     "execution_count": 15,
     "metadata": {},
     "output_type": "execute_result"
    }
   ],
   "source": [
    "# Displaying the best score\n",
    "best_score"
   ]
  },
  {
   "cell_type": "code",
   "execution_count": null,
   "id": "ad64df46-2c30-49fa-84c6-81769f2b557c",
   "metadata": {},
   "outputs": [],
   "source": [
    "def plot_rewards(r1, r2, game_score):\n",
    "    \"\"\" Defining helper function for plotting rewards per episode\"\"\"\n",
    "\n",
    "    # Create a 1x3 grid of subplots\n",
    "    fig, axes = plt.subplots(1, 3, figsize=(18, 5))\n",
    "\n",
    "    # Plot for seeder agent reward\n",
    "    axes[0].plot(r1, color='blue', label=\"Seeder Agent Reward\")\n",
    "    axes[0].set_title(\"Seeder Agent Reward\")\n",
    "    axes[0].set_xlabel(\"Episodes\")\n",
    "    axes[0].set_ylabel(\"Reward\")\n",
    "    axes[0].legend()\n",
    "\n",
    "    # Plot for harvester agent reward\n",
    "    axes[1].plot(r2, color='green', label=\"Harvester Agent Reward\")\n",
    "    axes[1].set_title(\"Harvester Agent Reward\")\n",
    "    axes[1].set_xlabel(\"Episodes\")\n",
    "    axes[1].set_ylabel(\"Reward\")\n",
    "    axes[1].legend()\n",
    "\n",
    "    # Plot for Game Score\n",
    "    axes[2].plot(game_score, color='purple', label=\"Game Score\")\n",
    "    axes[2].set_title(\"Game Score\")\n",
    "    axes[2].set_xlabel(\"Episodes\")\n",
    "    axes[2].set_ylabel(\"Score\")\n",
    "    axes[2].legend()\n",
    "\n",
    "    plt.tight_layout()\n",
    "    plt.show()\n"
   ]
  },
  {
   "cell_type": "code",
   "execution_count": 19,
   "id": "d21e43f4-b6b6-4f52-8749-c03b94c3acf0",
   "metadata": {},
   "outputs": [
    {
     "data": {
      "image/png": "[encoded data removed]",
      "text/plain": [
       "<Figure size 1296x360 with 3 Axes>"
      ]
     },
     "metadata": {
      "needs_background": "light"
     },
     "output_type": "display_data"
    }
   ],
   "source": [
    "plot_rewards(seeder_rewards, harvester_rewards, game_scores)"
   ]
  },
  {
   "cell_type": "code",
   "execution_count": null,
   "id": "5831c10f-b2c8-48d4-8fcf-1d03d394f600",
   "metadata": {},
   "outputs": [
    {
     "name": "stderr",
     "output_type": "stream",
     "text": [
      "Testing Episodes: 100%|██████████| 20/20 [00:34<00:00,  1.71s/episode, Seeder Reward=-40, Harvester Reward=-10.2, Game Score=20]  "
     ]
    },
    {
     "name": "stdout",
     "output_type": "stream",
     "text": [
      "Testing Completed\n",
      "Average Seeder Reward: -31.372999999999962\n",
      "Average Harvester Reward: 1.5550000000000277\n",
      "Average Game Score: 28.0\n"
     ]
    },
    {
     "name": "stderr",
     "output_type": "stream",
     "text": [
      "\n"
     ]
    }
   ],
   "source": [
    "# Number of episodes for testing\n",
    "test_episodes = 20\n",
    "test_seeder_rewards = []\n",
    "test_harvester_rewards = []\n",
    "test_game_scores = []\n",
    "# Flag to save videos during testing\n",
    "save_video = False\n",
    "\n",
    "with tqdm(total=test_episodes, desc=\"Testing Episodes\", unit=\"episode\") as pbar:\n",
    "    for episode in range(test_episodes):\n",
    "        save_video = False  # Save videos for every 5th episode\n",
    "        \n",
    "        if save_video:\n",
    "            video_filename = f\"a2c_2agents/test_episode_{episode+1}.mp4\"\n",
    "            # Initialize VideoWriter to write video frame\n",
    "            fourcc = cv2.VideoWriter_fourcc(*'mp4v')\n",
    "            video_writer = None\n",
    "\n",
    "        # Reset environment for AgriEnv\n",
    "        state, _ = agri_env.reset()\n",
    "        done = False\n",
    "        episode_rewards_seeder = 0\n",
    "        episode_rewards_harvester = 0\n",
    "\n",
    "        while not done:\n",
    "            # Construct state for all agents\n",
    "            seeder_state = state[0] + state[1]\n",
    "            harvester_state = state[0] + state[2]\n",
    "            \n",
    "            # Get actions for all agents\n",
    "            seeder_action, _ = seeder_agent.get_action(seeder_state)\n",
    "            harvester_action, _ = harvester_agent.get_action(harvester_state)\n",
    "\n",
    "            # Take actions in the environment\n",
    "            next_state, reward, done, _ = agri_env.step({\n",
    "                'seeder_agent': seeder_action,\n",
    "                'harvester_agent': harvester_action,\n",
    "            })\n",
    "\n",
    "            if save_video:\n",
    "                frame = agri_env.render()\n",
    "                frame = cv2.cvtColor(frame, cv2.COLOR_RGB2BGR)\n",
    "                if video_writer is None:\n",
    "                    height, width, _ = frame.shape\n",
    "                    video_writer = cv2.VideoWriter(video_filename, fourcc, 30, (width, height))\n",
    "                video_writer.write(frame)\n",
    "\n",
    "            # Update episode rewards\n",
    "            episode_rewards_seeder += reward[0]\n",
    "            episode_rewards_harvester += reward[1]\n",
    "\n",
    "            # Update state\n",
    "            state = next_state\n",
    "\n",
    "        if save_video and video_writer is not None:\n",
    "            video_writer.release()\n",
    "            print(f\"Test video for episode {episode+1} saved as {video_filename}\")\n",
    "\n",
    "        # Store episode rewards\n",
    "        test_seeder_rewards.append(episode_rewards_seeder)\n",
    "        test_harvester_rewards.append(episode_rewards_harvester)\n",
    "        test_game_scores.append(agri_env.game_score)\n",
    "\n",
    "        # Update progress bar\n",
    "        pbar.set_postfix({\n",
    "            'Seeder Reward': episode_rewards_seeder,\n",
    "            'Harvester Reward': episode_rewards_harvester,\n",
    "            'Game Score': agri_env.game_score\n",
    "        })\n",
    "        pbar.update(1)\n",
    "\n",
    "# Summary of results\n",
    "print(\"Testing Completed\")\n",
    "print(f\"Average Seeder Reward: {sum(test_seeder_rewards) / test_episodes}\")\n",
    "print(f\"Average Harvester Reward: {sum(test_harvester_rewards) / test_episodes}\")\n",
    "print(f\"Average Game Score: {sum(test_game_scores) / test_episodes}\")\n",
    "print(f\"Highest Game Score: {max(test_game_scores)}\")\n",
    "print(f\"Lowest Game Score: {min(test_game_scores)}\")\n"
   ]
  },
  {
   "cell_type": "code",
   "execution_count": 19,
   "id": "6f698b59-9bb0-4168-aa66-afd9810f31d8",
   "metadata": {},
   "outputs": [
    {
     "data": {
      "image/png": "[encoded data removed]",
      "text/plain": [
       "<Figure size 1296x360 with 3 Axes>"
      ]
     },
     "metadata": {
      "needs_background": "light"
     },
     "output_type": "display_data"
    }
   ],
   "source": [
    "plot_rewards(test_seeder_rewards, test_harvester_rewards, test_game_scores)"
   ]
  }
 ],
 "metadata": {
  "kernelspec": {
   "display_name": "Python 3 (ipykernel)",
   "language": "python",
   "name": "python3"
  },
  "language_info": {
   "codemirror_mode": {
    "name": "ipython",
    "version": 3
   },
   "file_extension": ".py",
   "mimetype": "text/x-python",
   "name": "python",
   "nbconvert_exporter": "python",
   "pygments_lexer": "ipython3",
   "version": "3.9.6"
  }
 },
 "nbformat": 4,
 "nbformat_minor": 5
}
