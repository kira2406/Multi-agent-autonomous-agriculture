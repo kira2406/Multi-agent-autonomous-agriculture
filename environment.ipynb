{
 "cells": [
  {
   "cell_type": "code",
   "execution_count": 1,
   "id": "314ff143-f4ff-4ab2-8462-6e14e85730e8",
   "metadata": {},
   "outputs": [
    {
     "name": "stdout",
     "output_type": "stream",
     "text": [
      "pygame 2.6.0 (SDL 2.28.4, Python 3.12.1)\n",
      "Hello from the pygame community. https://www.pygame.org/contribute.html\n"
     ]
    }
   ],
   "source": [
    "from AgriEnv import AgriEnv"
   ]
  },
  {
   "cell_type": "code",
   "execution_count": 2,
   "id": "f4ab98e9",
   "metadata": {},
   "outputs": [],
   "source": [
    "env = AgriEnv()"
   ]
  },
  {
   "cell_type": "code",
   "execution_count": 3,
   "id": "7cb51682-480f-4876-aa06-18c3c2501ae8",
   "metadata": {},
   "outputs": [
    {
     "name": "stdout",
     "output_type": "stream",
     "text": [
      "Available actions for seeder_agent (Seeder Agent): [0, 1, 2, 3, 4, 5, 6, 7]\n",
      "Available actions for harvester_agent (Harvester Agent): [0, 1, 2, 3, 4, 5, 6, 7]\n",
      "seeder_agent's action: move_down\n",
      "====Seeder Agent====\n",
      "[9, 2, 0, 0]\n",
      "harvester_agent's action: move_down\n",
      "move_down\n",
      "====Harvester Agent====\n",
      "Position: 11\n",
      "Facing: Down\n",
      "Crop Type: 0\n",
      "Crop Value: 0\n",
      "[[1, 2, 0.0, 1.025, 0.0, 0, 1], [1, 2, 0.0, 1.025, 0.0, 0, 1], [1, 2, 0.0, 1.025, 0.0, 0, 1], [1, 2, 0.0, 1.025, 0.0, 0, 1]]\n",
      "Available actions for seeder_agent (Seeder Agent): [0, 1, 2, 3, 4, 5, 6, 7]\n",
      "Available actions for harvester_agent (Harvester Agent): [0, 1, 2, 3, 4, 5, 6, 7]\n",
      "seeder_agent's action: move_down\n",
      "====Seeder Agent====\n",
      "[18, 2, 0, 0]\n",
      "harvester_agent's action: move_right\n",
      "move_right\n",
      "====Harvester Agent====\n",
      "Position: 12\n",
      "Facing: Right\n",
      "Crop Type: 0\n",
      "Crop Value: 0\n",
      "[[1, 2, 0.0, 1.0499999999999998, 0.0, 0, 1], [1, 2, 0.0, 1.0499999999999998, 0.0, 0, 1], [1, 2, 0.0, 1.0499999999999998, 0.0, 0, 1], [1, 2, 0.0, 1.0499999999999998, 0.0, 0, 1]]\n",
      "Available actions for seeder_agent (Seeder Agent): [0, 1, 2, 3, 4, 5, 6, 7]\n",
      "Available actions for harvester_agent (Harvester Agent): [0, 1, 2, 3, 4, 5, 6, 7]\n",
      "seeder_agent's action: move_down\n",
      "====Seeder Agent====\n",
      "[27, 2, 0, 0]\n",
      "harvester_agent's action: idle\n",
      "idle\n",
      "====Harvester Agent====\n",
      "Position: 12\n",
      "Facing: Right\n",
      "Crop Type: 0\n",
      "Crop Value: 0\n",
      "[[1, 2, 0.0, 1.0749999999999997, 0.0, 0, 1], [1, 2, 0.0, 1.0749999999999997, 0.0, 0, 1], [1, 2, 0.0, 1.0749999999999997, 0.0, 0, 1], [1, 2, 0.0, 1.0749999999999997, 0.0, 0, 1]]\n",
      "Available actions for seeder_agent (Seeder Agent): [0, 1, 2, 3, 4, 5, 6, 7]\n",
      "Available actions for harvester_agent (Harvester Agent): [0, 1, 2, 3, 4, 5, 6, 7]\n"
     ]
    },
    {
     "ename": "ValueError",
     "evalue": "invalid literal for int() with base 10: ''",
     "output_type": "error",
     "traceback": [
      "\u001b[1;31m---------------------------------------------------------------------------\u001b[0m",
      "\u001b[1;31mValueError\u001b[0m                                Traceback (most recent call last)",
      "Cell \u001b[1;32mIn[3], line 18\u001b[0m\n\u001b[0;32m     15\u001b[0m \u001b[38;5;28mprint\u001b[39m(\u001b[38;5;124mf\u001b[39m\u001b[38;5;124m\"\u001b[39m\u001b[38;5;124mAvailable actions for \u001b[39m\u001b[38;5;132;01m{\u001b[39;00magents[\u001b[38;5;241m1\u001b[39m]\u001b[38;5;132;01m}\u001b[39;00m\u001b[38;5;124m (Harvester Agent): \u001b[39m\u001b[38;5;132;01m{\u001b[39;00m\u001b[38;5;28mlist\u001b[39m(\u001b[38;5;28mrange\u001b[39m(env\u001b[38;5;241m.\u001b[39maction_space[agents[\u001b[38;5;241m1\u001b[39m]]\u001b[38;5;241m.\u001b[39mn))\u001b[38;5;132;01m}\u001b[39;00m\u001b[38;5;124m\"\u001b[39m)\n\u001b[0;32m     17\u001b[0m \u001b[38;5;66;03m# Taking input from the user for each agent's action\u001b[39;00m\n\u001b[1;32m---> 18\u001b[0m seeder_agent_action \u001b[38;5;241m=\u001b[39m \u001b[38;5;28mint\u001b[39m(\u001b[38;5;28minput\u001b[39m(\u001b[38;5;124mf\u001b[39m\u001b[38;5;124m\"\u001b[39m\u001b[38;5;124mEnter action for \u001b[39m\u001b[38;5;132;01m{\u001b[39;00magents[\u001b[38;5;241m0\u001b[39m]\u001b[38;5;132;01m}\u001b[39;00m\u001b[38;5;124m (Seeder Agent): \u001b[39m\u001b[38;5;124m\"\u001b[39m))\n\u001b[0;32m     19\u001b[0m \u001b[38;5;66;03m# water_agent_action = 4 # int(input(f\"Enter action for {agents[1]} (Water Agent): \"))\u001b[39;00m\n\u001b[0;32m     20\u001b[0m harvester_agent_action \u001b[38;5;241m=\u001b[39m  \u001b[38;5;28mint\u001b[39m(\u001b[38;5;28minput\u001b[39m(\u001b[38;5;124mf\u001b[39m\u001b[38;5;124m\"\u001b[39m\u001b[38;5;124mEnter action for \u001b[39m\u001b[38;5;132;01m{\u001b[39;00magents[\u001b[38;5;241m1\u001b[39m]\u001b[38;5;132;01m}\u001b[39;00m\u001b[38;5;124m (Harvester Agent): \u001b[39m\u001b[38;5;124m\"\u001b[39m))\n",
      "\u001b[1;31mValueError\u001b[0m: invalid literal for int() with base 10: ''"
     ]
    }
   ],
   "source": [
    "# Example: Run 5 episodes in the environment\n",
    "for episode in range(5):\n",
    "    state = env.reset()\n",
    "    done = False\n",
    "    total_reward = 0\n",
    "\n",
    "    agents = env.agents\n",
    "\n",
    "    while not done:\n",
    "        # Render the environment\n",
    "        env.render()\n",
    "            # Display the available actions for each agent\n",
    "        print(f\"Available actions for {agents[0]} (Seeder Agent): {list(range(env.action_space[agents[0]].n))}\")\n",
    "        # print(f\"Available actions for {agents[1]} (Water Agent): {list(range(env.action_space[agents[1]].n))}\")\n",
    "        print(f\"Available actions for {agents[1]} (Harvester Agent): {list(range(env.action_space[agents[1]].n))}\")\n",
    "\n",
    "        # Taking input from the user for each agent's action\n",
    "        seeder_agent_action = int(input(f\"Enter action for {agents[0]} (Seeder Agent): \"))\n",
    "        # water_agent_action = 4 # int(input(f\"Enter action for {agents[1]} (Water Agent): \"))\n",
    "        harvester_agent_action =  int(input(f\"Enter action for {agents[1]} (Harvester Agent): \"))\n",
    "\n",
    "        actions = {\n",
    "            agents[0]: seeder_agent_action,\n",
    "            # agents[1]: water_agent_action,\n",
    "            agents[1]: harvester_agent_action,\n",
    "        }\n",
    "\n",
    "        # Take action\n",
    "        next_state, reward, done, info = env.step(actions)\n",
    "        total_reward += reward\n",
    "\n",
    "    print(f\"Episode {episode + 1} finished with total reward: {total_reward}\")\n",
    "\n",
    "env.close()"
   ]
  },
  {
   "cell_type": "code",
   "execution_count": null,
   "id": "acface58-b9d4-4570-9527-25bae8881bc5",
   "metadata": {},
   "outputs": [],
   "source": []
  },
  {
   "cell_type": "code",
   "execution_count": null,
   "id": "d80c53f0-25cf-48b0-af70-9e8bf38a1f6b",
   "metadata": {},
   "outputs": [],
   "source": []
  }
 ],
 "metadata": {
  "kernelspec": {
   "display_name": "helios",
   "language": "python",
   "name": "python3"
  },
  "language_info": {
   "codemirror_mode": {
    "name": "ipython",
    "version": 3
   },
   "file_extension": ".py",
   "mimetype": "text/x-python",
   "name": "python",
   "nbconvert_exporter": "python",
   "pygments_lexer": "ipython3",
   "version": "3.12.1"
  }
 },
 "nbformat": 4,
 "nbformat_minor": 5
}
